{
 "cells": [
  {
   "cell_type": "code",
   "execution_count": 1,
   "id": "f37214c8",
   "metadata": {
    "scrolled": true
   },
   "outputs": [
    {
     "name": "stdout",
     "output_type": "stream",
     "text": [
      "Collecting tmdbv3api\n",
      "  Downloading tmdbv3api-1.7.6-py2.py3-none-any.whl (17 kB)\n",
      "Requirement already satisfied: requests in /opt/anaconda3/lib/python3.9/site-packages (from tmdbv3api) (2.26.0)\n",
      "Requirement already satisfied: certifi>=2017.4.17 in /opt/anaconda3/lib/python3.9/site-packages (from requests->tmdbv3api) (2021.10.8)\n",
      "Requirement already satisfied: urllib3<1.27,>=1.21.1 in /opt/anaconda3/lib/python3.9/site-packages (from requests->tmdbv3api) (1.26.7)\n",
      "Requirement already satisfied: charset-normalizer~=2.0.0 in /opt/anaconda3/lib/python3.9/site-packages (from requests->tmdbv3api) (2.0.4)\n",
      "Requirement already satisfied: idna<4,>=2.5 in /opt/anaconda3/lib/python3.9/site-packages (from requests->tmdbv3api) (3.2)\n",
      "Installing collected packages: tmdbv3api\n",
      "Successfully installed tmdbv3api-1.7.6\n",
      "Note: you may need to restart the kernel to use updated packages.\n"
     ]
    }
   ],
   "source": [
    "pip install tmdbv3api"
   ]
  },
  {
   "cell_type": "code",
   "execution_count": 2,
   "id": "ab725810",
   "metadata": {},
   "outputs": [],
   "source": [
    "from tmdbv3api import TMDb\n",
    "tmdb = TMDb()\n",
    "tmdb.api_key = '8b4eeba45fc9da8855766d307b0ad3e7'"
   ]
  },
  {
   "cell_type": "code",
   "execution_count": 3,
   "id": "a112eab1",
   "metadata": {},
   "outputs": [],
   "source": [
    "tmdb.language = 'en'\n",
    "tmdb.debug = True"
   ]
  },
  {
   "cell_type": "code",
   "execution_count": 5,
   "id": "29974457",
   "metadata": {},
   "outputs": [],
   "source": [
    "from tmdbv3api import Movie\n",
    "\n",
    "movie = Movie()"
   ]
  },
  {
   "cell_type": "code",
   "execution_count": 6,
   "id": "61f7b79a",
   "metadata": {},
   "outputs": [],
   "source": [
    "m = movie.details(13016)"
   ]
  },
  {
   "cell_type": "code",
   "execution_count": 7,
   "id": "030a4101",
   "metadata": {},
   "outputs": [
    {
     "name": "stdout",
     "output_type": "stream",
     "text": [
      "Zeitgeist\n",
      "Zeitgeist: the Movie is a 2007 documentary film by Peter Joseph examining possible historical and modern conspiracies surrounding Christianity, the September 11, 2001 terrorist attacks and the Federal Reserve bank. It was officially released online on June 18, 2007 on www.ZeitgeistMovie.com\n",
      "6.83\n"
     ]
    }
   ],
   "source": [
    "print(m.title)\n",
    "print(m.overview)\n",
    "print(m.popularity)"
   ]
  },
  {
   "cell_type": "code",
   "execution_count": 10,
   "id": "0a665209",
   "metadata": {},
   "outputs": [
    {
     "name": "stdout",
     "output_type": "stream",
     "text": [
      "Collecting cinemagoer\n",
      "  Downloading cinemagoer-2022.2.11-py3-none-any.whl (301 kB)\n",
      "\u001b[2K     \u001b[90m━━━━━━━━━━━━━━━━━━━━━━━━━━━━━━━━━━━━━━━\u001b[0m \u001b[32m301.4/301.4 KB\u001b[0m \u001b[31m3.4 MB/s\u001b[0m eta \u001b[36m0:00:00\u001b[0m00:01\u001b[0m00:01\u001b[0m\n",
      "\u001b[?25hRequirement already satisfied: SQLAlchemy in /opt/anaconda3/lib/python3.9/site-packages (from cinemagoer) (1.4.22)\n",
      "Requirement already satisfied: lxml in /opt/anaconda3/lib/python3.9/site-packages (from cinemagoer) (4.6.3)\n",
      "Requirement already satisfied: greenlet!=0.4.17 in /opt/anaconda3/lib/python3.9/site-packages (from SQLAlchemy->cinemagoer) (1.1.1)\n",
      "Installing collected packages: cinemagoer\n",
      "Successfully installed cinemagoer-2022.2.11\n",
      "Note: you may need to restart the kernel to use updated packages.\n"
     ]
    }
   ],
   "source": [
    "pip install cinemagoer"
   ]
  },
  {
   "cell_type": "code",
   "execution_count": 18,
   "id": "2a013b53",
   "metadata": {},
   "outputs": [],
   "source": [
    "from imdb import Cinemagoer\n",
    "\n",
    "# create an instance of the Cinemagoer class\n",
    "ia = Cinemagoer()\n",
    "\n",
    "# get a movie\n",
    "movie = ia.get_movie('0317219')"
   ]
  },
  {
   "cell_type": "code",
   "execution_count": 24,
   "id": "6ad74444",
   "metadata": {},
   "outputs": [
    {
     "data": {
      "text/plain": [
       "'While traveling to California for the dispute of the final race of the Piston Cup against The King and Chick Hicks, the famous Lightning McQueen accidentally damages the road of the small town Radiator Springs and is sentenced to repair it. Lightning McQueen has to work hard and finds friendship and love in the simple locals, changing its values during his stay in the small town and becoming a true winner.'"
      ]
     },
     "execution_count": 24,
     "metadata": {},
     "output_type": "execute_result"
    }
   ],
   "source": [
    "movie.data['plot outline']"
   ]
  },
  {
   "cell_type": "code",
   "execution_count": 35,
   "id": "2cd1d336",
   "metadata": {},
   "outputs": [],
   "source": [
    "movie2 = ia.get_movie('32993')"
   ]
  },
  {
   "cell_type": "code",
   "execution_count": 36,
   "id": "4bb075d4",
   "metadata": {},
   "outputs": [
    {
     "data": {
      "text/plain": [
       "<Movie id:0032993[http] title:_Road to Singapore (1940)_>"
      ]
     },
     "execution_count": 36,
     "metadata": {},
     "output_type": "execute_result"
    }
   ],
   "source": [
    "movie2"
   ]
  },
  {
   "cell_type": "code",
   "execution_count": 38,
   "id": "fb3aff70",
   "metadata": {
    "scrolled": true
   },
   "outputs": [
    {
     "data": {
      "text/plain": [
       "{'localized title': 'Road to Singapore',\n",
       " 'cast': [<Person id:0001078[http] name:_Bing Crosby_>,\n",
       "  <Person id:0483787[http] name:_Dorothy Lamour_>,\n",
       "  <Person id:0001362[http] name:_Bob Hope_>,\n",
       "  <Person id:0002013[http] name:_Charles Coburn_>,\n",
       "  <Person id:0057184[http] name:_Judith Barrett_>,\n",
       "  <Person id:0000063[http] name:_Anthony Quinn_>,\n",
       "  <Person id:0173160[http] name:_Jerry Colonna_>,\n",
       "  <Person id:0021519[http] name:_Elvia Allman_>,\n",
       "  <Person id:0037783[http] name:_Johnny Arthur_>,\n",
       "  <Person id:0053354[http] name:_Bobby Barber_>,\n",
       "  <Person id:0089524[http] name:_Monte Blue_>,\n",
       "  <Person id:0103249[http] name:_Harry C. Bradley_>,\n",
       "  <Person id:0110893[http] name:_Don Brodie_>,\n",
       "  <Person id:0116897[http] name:_Arthur Q. Bryan_>,\n",
       "  <Person id:0174188[http] name:_James Conaty_>,\n",
       "  <Person id:0195362[http] name:_Carmen D'Antonio_>,\n",
       "  <Person id:0213632[http] name:_Paula DeCardo_>,\n",
       "  <Person id:0227243[http] name:_Jimmy Dime_>,\n",
       "  <Person id:0229055[http] name:_Devi Dja_>,\n",
       "  <Person id:0291432[http] name:_Gloria Franklin_>,\n",
       "  <Person id:0307324[http] name:_Edward Gargan_>,\n",
       "  <Person id:0318102[http] name:_Joe Gilbert_>,\n",
       "  <Person id:0335215[http] name:_Greta Granstedt_>,\n",
       "  <Person id:0336919[http] name:_Roger Gray_>,\n",
       "  <Person id:5269737[http] name:_Lucille Harding_>,\n",
       "  <Person id:0354916[http] name:_Grace Hayle_>,\n",
       "  <Person id:0396473[http] name:_Shep Houghton_>,\n",
       "  <Person id:0409240[http] name:_Benny Inocencio_>,\n",
       "  <Person id:0416371[http] name:_Claire James_>,\n",
       "  <Person id:0418774[http] name:_Dorothy Jarnac_>,\n",
       "  <Person id:0425977[http] name:_Payne B. Johnson_>,\n",
       "  <Person id:0444708[http] name:_Richard Keene_>,\n",
       "  <Person id:0446503[http] name:_John Kelly_>,\n",
       "  <Person id:0446580[http] name:_Kitty Kelly_>,\n",
       "  <Person id:2138840[http] name:_Laura Knight_>,\n",
       "  <Person id:0528505[http] name:_Helen Lynd_>,\n",
       "  <Person id:0538984[http] name:_Fred Malatesta_>,\n",
       "  <Person id:0541766[http] name:_Miles Mander_>,\n",
       "  <Person id:0580425[http] name:_Louis Mercier_>,\n",
       "  <Person id:0588443[http] name:_Harold Miller_>,\n",
       "  <Person id:0593146[http] name:_Belle Mitchell_>,\n",
       "  <Person id:0607864[http] name:_Edmund Mortimer_>,\n",
       "  <Person id:0607942[http] name:_Charles Morton_>,\n",
       "  <Person id:0636208[http] name:_Field Norton_>,\n",
       "  <Person id:0640253[http] name:_Bob O'Connor_>,\n",
       "  <Person id:0655891[http] name:_Marguerita Padula_>,\n",
       "  <Person id:0671747[http] name:_Steve Pendleton_>,\n",
       "  <Person id:0672593[http] name:_Jack Pepper_>,\n",
       "  <Person id:1214785[http] name:_Esther Pressman_>,\n",
       "  <Person id:0716505[http] name:_Pedro Regas_>,\n",
       "  <Person id:0727529[http] name:_Cyril Ring_>,\n",
       "  <Person id:0740011[http] name:_Ronald R. Rondell_>,\n",
       "  <Person id:0820411[http] name:_Robert St. Angelo_>,\n",
       "  <Person id:0824885[http] name:_Larry Steers_>,\n",
       "  <Person id:0832324[http] name:_Jack Stoney_>,\n",
       "  <Person id:0875983[http] name:_Richard Tucker_>,\n",
       "  <Person id:0905505[http] name:_Russell Wade_>,\n",
       "  <Person id:0906939[http] name:_Fred Walburn_>,\n",
       "  <Person id:0914246[http] name:_Pierre Watkin_>],\n",
       " 'genres': ['Comedy', 'Musical', 'Romance'],\n",
       " 'runtimes': ['85'],\n",
       " 'countries': ['United States'],\n",
       " 'country codes': ['us'],\n",
       " 'language codes': ['en', 'eo'],\n",
       " 'color info': ['Black and White'],\n",
       " 'aspect ratio': '1.37 : 1',\n",
       " 'sound mix': ['Mono::(Western Electric Mirrophonic Recording)'],\n",
       " 'certificates': ['Australia:G',\n",
       "  'Brazil:Livre',\n",
       "  'Finland:S',\n",
       "  'France:Tous publics',\n",
       "  'Italy:T',\n",
       "  'Japan:G',\n",
       "  'Sweden:Btl',\n",
       "  'United Kingdom:U',\n",
       "  'United States:Approved'],\n",
       " 'original air date': '22 Mar 1940 (USA)',\n",
       " 'rating': 6.7,\n",
       " 'votes': 3752,\n",
       " 'cover url': 'https://m.media-amazon.com/images/M/MV5BYTc4MTI2ZmMtZmQyMy00MDczLTlhOWQtZjZiZGRlYTYzMGZiL2ltYWdlL2ltYWdlXkEyXkFqcGdeQXVyNDQzMDg4Nzk@._V1_SX101_CR0,0,101,150_.jpg',\n",
       " 'imdbID': '0032993',\n",
       " 'languages': ['English', 'Esperanto'],\n",
       " 'title': 'Road to Singapore',\n",
       " 'year': 1940,\n",
       " 'kind': 'movie',\n",
       " 'original title': 'Road to Singapore',\n",
       " 'director': [<Person id:0006276[http] name:_Victor Schertzinger_>],\n",
       " 'writer': [<Person id:0366942[http] name:_Don Hartman_>,\n",
       "  <Person id:0124918[http] name:_Frank Butler_>,\n",
       "  <Person id:None[http] name:_None_>,\n",
       "  <Person id:0381152[http] name:_Harry Hervey_>,\n",
       "  <Person id:None[http] name:_None_>,\n",
       "  <Person id:0212700[http] name:_Barney Dean_>,\n",
       "  <Person id:None[http] name:_None_>,\n",
       "  <Person id:0325482[http] name:_Ray Golden_>,\n",
       "  <Person id:None[http] name:_None_>,\n",
       "  <Person id:0474657[http] name:_Sid Kuller_>],\n",
       " 'producer': [<Person id:0495461[http] name:_William LeBaron_>,\n",
       "  <Person id:0860194[http] name:_Harlan Thompson_>],\n",
       " 'composer': [<Person id:0000082[http] name:_Victor Young_>],\n",
       " 'cinematographer': [<Person id:0005794[http] name:_William C. Mellor_>],\n",
       " 'editor': [<Person id:0915800[http] name:_Paul Weatherwax_>],\n",
       " 'art direction': [<Person id:0237417[http] name:_Hans Dreier_>,\n",
       "  <Person id:0643987[http] name:_Robert Odell_>],\n",
       " 'costume designer': [<Person id:0372128[http] name:_Edith Head_>],\n",
       " 'assistant director': [<Person id:0854763[http] name:_George Templeton_>],\n",
       " 'art department': [<Person id:0294444[http] name:_A.E. Freudeman_>],\n",
       " 'sound crew': [<Person id:0178554[http] name:_John Cope_>,\n",
       "  <Person id:0371344[http] name:_Earl S. Hayman_>],\n",
       " 'visual effects': [<Person id:0249643[http] name:_Farciot Edouart_>],\n",
       " 'stunt performer': [<Person id:0941032[http] name:_Jack Woody_>],\n",
       " 'camera and electrical department': [<Person id:0731549[http] name:_Roy Roberts_>],\n",
       " 'costume department': [<Person id:1287577[http] name:_Eugene Joseff_>],\n",
       " 'music department': [<Person id:0000082[http] name:_Victor Young_>],\n",
       " 'miscellaneous crew': [<Person id:0697895[http] name:_LeRoy Prinz_>],\n",
       " 'akas': ['Beach of Dreams (United States)',\n",
       "  'Road to Mandalay (United States)',\n",
       "  'En route pour Singapour (France)',\n",
       "  'Ruta de Singapur (Spain)',\n",
       "  'Op weg naar Singapore (Belgium, Flemish title)'],\n",
       " 'production companies': [<Company id:0023400[http] name:_Paramount Pictures_>],\n",
       " 'distributors': [<Company id:0023400[http] name:_Paramount Pictures_>,\n",
       "  <Company id:0754555[http] name:_Paramount Film Service_>,\n",
       "  <Company id:0074341[http] name:_Paramount British Pictures_>,\n",
       "  <Company id:0316662[http] name:_Paramount Film Service_>,\n",
       "  <Company id:0220414[http] name:_Film AB Paramount_>,\n",
       "  <Company id:0184442[http] name:_Paramount-Films_>,\n",
       "  <Company id:0011257[http] name:_Paramount Films_>,\n",
       "  <Company id:0234054[http] name:_M.P.E.A._>,\n",
       "  <Company id:0094762[http] name:_Les Films Paramount_>,\n",
       "  <Company id:0026044[http] name:_MCA/Universal Pictures_>,\n",
       "  <Company id:0060214[http] name:_MCA/Universal Home Video_>,\n",
       "  <Company id:0060214[http] name:_MCA/Universal Home Video_>,\n",
       "  <Company id:0023827[http] name:_Universal Pictures Home Entertainment (UPHE)_>],\n",
       " 'plot': ['Two playboys try to forget previous romances in Singapore - until they meet a beautiful dancer.']}"
      ]
     },
     "execution_count": 38,
     "metadata": {},
     "output_type": "execute_result"
    }
   ],
   "source": [
    "if movie2.data"
   ]
  },
  {
   "cell_type": "code",
   "execution_count": 48,
   "id": "2f91c70e",
   "metadata": {},
   "outputs": [
    {
     "data": {
      "text/plain": [
       "False"
      ]
     },
     "execution_count": 48,
     "metadata": {},
     "output_type": "execute_result"
    }
   ],
   "source": [
    "\"runtimes\" not in movie2.data.keys()"
   ]
  },
  {
   "cell_type": "code",
   "execution_count": 41,
   "id": "8a521257",
   "metadata": {},
   "outputs": [
    {
     "ename": "KeyError",
     "evalue": "'plot outline'",
     "output_type": "error",
     "traceback": [
      "\u001b[0;31m---------------------------------------------------------------------------\u001b[0m",
      "\u001b[0;31mKeyError\u001b[0m                                  Traceback (most recent call last)",
      "\u001b[0;32m/var/folders/6h/24bjq51j6jx3mjh0j1j5q3hw0000gn/T/ipykernel_2828/2340093378.py\u001b[0m in \u001b[0;36m<module>\u001b[0;34m\u001b[0m\n\u001b[0;32m----> 1\u001b[0;31m \u001b[0;32mif\u001b[0m \u001b[0mmovie2\u001b[0m\u001b[0;34m.\u001b[0m\u001b[0mdata\u001b[0m\u001b[0;34m[\u001b[0m\u001b[0;34m'plot outline'\u001b[0m\u001b[0;34m]\u001b[0m \u001b[0;32mis\u001b[0m \u001b[0;32mNone\u001b[0m\u001b[0;34m:\u001b[0m\u001b[0;34m\u001b[0m\u001b[0;34m\u001b[0m\u001b[0m\n\u001b[0m\u001b[1;32m      2\u001b[0m     \u001b[0mprint\u001b[0m\u001b[0;34m(\u001b[0m\u001b[0;34m'yes'\u001b[0m\u001b[0;34m)\u001b[0m\u001b[0;34m\u001b[0m\u001b[0;34m\u001b[0m\u001b[0m\n",
      "\u001b[0;31mKeyError\u001b[0m: 'plot outline'"
     ]
    }
   ],
   "source": [
    "if movie2.data['plot outline'] is None:\n",
    "    print('yes')"
   ]
  },
  {
   "cell_type": "code",
   "execution_count": null,
   "id": "02a3e771",
   "metadata": {},
   "outputs": [],
   "source": []
  }
 ],
 "metadata": {
  "kernelspec": {
   "display_name": "Python 3 (ipykernel)",
   "language": "python",
   "name": "python3"
  },
  "language_info": {
   "codemirror_mode": {
    "name": "ipython",
    "version": 3
   },
   "file_extension": ".py",
   "mimetype": "text/x-python",
   "name": "python",
   "nbconvert_exporter": "python",
   "pygments_lexer": "ipython3",
   "version": "3.9.7"
  }
 },
 "nbformat": 4,
 "nbformat_minor": 5
}
